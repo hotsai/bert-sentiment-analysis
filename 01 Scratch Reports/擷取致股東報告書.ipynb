{
 "cells": [
  {
   "cell_type": "markdown",
   "metadata": {},
   "source": [
    "# Get Reports to Shareholders"
   ]
  },
  {
   "cell_type": "code",
   "execution_count": 1,
   "metadata": {},
   "outputs": [],
   "source": [
    "import pdfplumber\n",
    "import os\n",
    "import re\n",
    "\n",
    "start_keyword = \"致股東報告書\"\n",
    "end_keyword = \"公司簡介\"\n",
    "folder_path = '/Users/hohan/Desktop/input_pdf'\n",
    "txt_path = '/Users/hohan/Desktop/output_pdf'\n",
    "\n",
    "def extract_report_content(pdf_path, start_keyword, end_keyword, max_page=25):\n",
    "    with pdfplumber.open(pdf_path) as pdf:\n",
    "        page_count = len(pdf.pages)\n",
    "\n",
    "        for i in range(min(max_page, page_count)):\n",
    "            page = pdf.pages[i]\n",
    "            text = page.extract_text()\n",
    "\n",
    "            patterns = [r\".*目.*錄.*\", r\"-------\", r\"‥‥\", r\"………\"]\n",
    "            # Use regular expressions to search for patterns in text\n",
    "            matches = [re.search(pattern, text) for pattern in patterns]\n",
    "\n",
    "            if any(matches):\n",
    "                continue\n",
    "            else:\n",
    "                return text\n",
    "\n",
    "    return \"\"\n",
    "\n",
    "# Loop through all PDF files in the folder\n",
    "for filename in os.listdir(folder_path):\n",
    "    try:\n",
    "        if filename.endswith('.pdf'):\n",
    "            report_content = extract_report_content(os.path.join(folder_path, filename), start_keyword, end_keyword)\n",
    "\n",
    "            if (start_keyword in report_content) and (end_keyword in report_content):\n",
    "                path = os.path.join(txt_path, filename[5:9] + '.txt')\n",
    "                with open(path, \"w\", encoding='utf-8') as f:\n",
    "                    start_index = report_content.index(start_keyword)\n",
    "                    end_index = report_content.index(end_keyword)\n",
    "                    f.write(report_content[start_index: end_index])\n",
    "            else:\n",
    "                print(filename)\n",
    "    except Exception as e:\n",
    "        print(f\"Error processing {filename}: {e}\")"
   ]
  }
 ],
 "metadata": {
  "kernelspec": {
   "display_name": "Python 3 (ipykernel)",
   "language": "python",
   "name": "python3"
  },
  "language_info": {
   "codemirror_mode": {
    "name": "ipython",
    "version": 3
   },
   "file_extension": ".py",
   "mimetype": "text/x-python",
   "name": "python",
   "nbconvert_exporter": "python",
   "pygments_lexer": "ipython3",
   "version": "3.9.13"
  },
  "toc": {
   "base_numbering": 1,
   "nav_menu": {},
   "number_sections": true,
   "sideBar": true,
   "skip_h1_title": false,
   "title_cell": "Table of Contents",
   "title_sidebar": "Contents",
   "toc_cell": false,
   "toc_position": {
    "height": "calc(100% - 180px)",
    "left": "10px",
    "top": "150px",
    "width": "165px"
   },
   "toc_section_display": true,
   "toc_window_display": true
  }
 },
 "nbformat": 4,
 "nbformat_minor": 4
}
