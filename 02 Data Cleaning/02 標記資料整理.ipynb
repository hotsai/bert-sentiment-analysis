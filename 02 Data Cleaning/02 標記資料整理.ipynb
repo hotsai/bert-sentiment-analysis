{
 "cells": [
  {
   "cell_type": "markdown",
   "id": "259ca5d9",
   "metadata": {},
   "source": [
    "# 標記資料整理\n",
    "1. 合併所有檔案\n",
    "2. 檢查缺失值\n",
    "3. 檢查重複值\n",
    "4. 檢查語調欄位正確性\n",
    "5. 去除語句空白"
   ]
  },
  {
   "cell_type": "markdown",
   "id": "03190d57",
   "metadata": {},
   "source": [
    "## 讀取路徑"
   ]
  },
  {
   "cell_type": "code",
   "execution_count": 170,
   "id": "f92f4ebe",
   "metadata": {},
   "outputs": [],
   "source": [
    "import pandas as pd\n",
    "import numpy as np\n",
    "import os"
   ]
  },
  {
   "cell_type": "code",
   "execution_count": 112,
   "id": "d2c176be",
   "metadata": {},
   "outputs": [],
   "source": [
    "# os.getcwd()\n",
    "# data_dir = os.getcwd()"
   ]
  },
  {
   "cell_type": "code",
   "execution_count": 119,
   "id": "df4b7d58",
   "metadata": {},
   "outputs": [],
   "source": [
    "data_dir = \"/Users/hohan/Desktop/tagged_2\""
   ]
  },
  {
   "cell_type": "code",
   "execution_count": 120,
   "id": "0863a100",
   "metadata": {},
   "outputs": [],
   "source": [
    "file_list = os.listdir(data_dir)"
   ]
  },
  {
   "cell_type": "code",
   "execution_count": 122,
   "id": "ae6fd05d",
   "metadata": {
    "scrolled": true
   },
   "outputs": [
    {
     "data": {
      "text/html": [
       "<div>\n",
       "<style scoped>\n",
       "    .dataframe tbody tr th:only-of-type {\n",
       "        vertical-align: middle;\n",
       "    }\n",
       "\n",
       "    .dataframe tbody tr th {\n",
       "        vertical-align: top;\n",
       "    }\n",
       "\n",
       "    .dataframe thead th {\n",
       "        text-align: right;\n",
       "    }\n",
       "</style>\n",
       "<table border=\"1\" class=\"dataframe\">\n",
       "  <thead>\n",
       "    <tr style=\"text-align: right;\">\n",
       "      <th></th>\n",
       "    </tr>\n",
       "  </thead>\n",
       "  <tbody>\n",
       "  </tbody>\n",
       "</table>\n",
       "</div>"
      ],
      "text/plain": [
       "Empty DataFrame\n",
       "Columns: []\n",
       "Index: []"
      ]
     },
     "execution_count": 122,
     "metadata": {},
     "output_type": "execute_result"
    }
   ],
   "source": [
    "mdf = pd.DataFrame()\n",
    "# mdf.head()"
   ]
  },
  {
   "cell_type": "markdown",
   "id": "a60f287a",
   "metadata": {},
   "source": [
    "## 合併所有excel"
   ]
  },
  {
   "cell_type": "code",
   "execution_count": 125,
   "id": "2077d98d",
   "metadata": {},
   "outputs": [],
   "source": [
    "for i, f in enumerate(file_list):\n",
    "    if f.endswith('.xlsx'):\n",
    "        df = pd.read_excel(data_dir + '/' + f)\n",
    "        mdf = pd.concat([mdf, df],axis=0)"
   ]
  },
  {
   "cell_type": "code",
   "execution_count": 141,
   "id": "385c0100",
   "metadata": {},
   "outputs": [
    {
     "name": "stdout",
     "output_type": "stream",
     "text": [
      "<class 'pandas.core.frame.DataFrame'>\n",
      "Int64Index: 7053 entries, 0 to 6\n",
      "Data columns (total 4 columns):\n",
      " #   Column   Non-Null Count  Dtype \n",
      "---  ------   --------------  ----- \n",
      " 0   Tone     7038 non-null   object\n",
      " 1   Year     7053 non-null   int64 \n",
      " 2   Company  7053 non-null   int64 \n",
      " 3   Text     7053 non-null   object\n",
      "dtypes: int64(2), object(2)\n",
      "memory usage: 275.5+ KB\n"
     ]
    }
   ],
   "source": [
    "mdf.info()"
   ]
  },
  {
   "cell_type": "code",
   "execution_count": 153,
   "id": "c5db8f45",
   "metadata": {
    "collapsed": true
   },
   "outputs": [
    {
     "data": {
      "text/html": [
       "<div>\n",
       "<style scoped>\n",
       "    .dataframe tbody tr th:only-of-type {\n",
       "        vertical-align: middle;\n",
       "    }\n",
       "\n",
       "    .dataframe tbody tr th {\n",
       "        vertical-align: top;\n",
       "    }\n",
       "\n",
       "    .dataframe thead th {\n",
       "        text-align: right;\n",
       "    }\n",
       "</style>\n",
       "<table border=\"1\" class=\"dataframe\">\n",
       "  <thead>\n",
       "    <tr style=\"text-align: right;\">\n",
       "      <th></th>\n",
       "      <th>Tone</th>\n",
       "      <th>Year</th>\n",
       "      <th>Company</th>\n",
       "      <th>Text</th>\n",
       "    </tr>\n",
       "  </thead>\n",
       "  <tbody>\n",
       "    <tr>\n",
       "      <th>0</th>\n",
       "      <td>負</td>\n",
       "      <td>2016</td>\n",
       "      <td>4533</td>\n",
       "      <td>﻿壹、致股東報告書各位股東女士、先生  2016年，我國工具機出口值從 31.84億美元衰退...</td>\n",
       "    </tr>\n",
       "    <tr>\n",
       "      <th>1</th>\n",
       "      <td>正</td>\n",
       "      <td>2016</td>\n",
       "      <td>4533</td>\n",
       "      <td>全年機械產業產值則較2015年衰退 7%，然而，協易 2016年集團整體營收為新台幣 41....</td>\n",
       "    </tr>\n",
       "    <tr>\n",
       "      <th>2</th>\n",
       "      <td>正</td>\n",
       "      <td>2016</td>\n",
       "      <td>4533</td>\n",
       "      <td>優化的產品組合帶動了獲利的成長</td>\n",
       "    </tr>\n",
       "    <tr>\n",
       "      <th>3</th>\n",
       "      <td>中</td>\n",
       "      <td>2016</td>\n",
       "      <td>4533</td>\n",
       "      <td>過去以傳統小噸數機台為主的營收，現在正逐步轉型至伺服機種及大噸數機台的銷售組合</td>\n",
       "    </tr>\n",
       "    <tr>\n",
       "      <th>4</th>\n",
       "      <td>中</td>\n",
       "      <td>2016</td>\n",
       "      <td>4533</td>\n",
       "      <td>締造了 2016年稅後每股盈餘新台幣 1.06元的績效</td>\n",
       "    </tr>\n",
       "    <tr>\n",
       "      <th>...</th>\n",
       "      <td>...</td>\n",
       "      <td>...</td>\n",
       "      <td>...</td>\n",
       "      <td>...</td>\n",
       "    </tr>\n",
       "    <tr>\n",
       "      <th>21</th>\n",
       "      <td>中</td>\n",
       "      <td>2016</td>\n",
       "      <td>8403</td>\n",
       "      <td>二、106年營業計劃概要 （一）經營方針 醫藥流通事業： --- 醫藥品聯合採購平台: 包括...</td>\n",
       "    </tr>\n",
       "    <tr>\n",
       "      <th>22</th>\n",
       "      <td>中</td>\n",
       "      <td>2016</td>\n",
       "      <td>8403</td>\n",
       "      <td>--- 藥品衛材倉儲物流管理</td>\n",
       "    </tr>\n",
       "    <tr>\n",
       "      <th>23</th>\n",
       "      <td>中</td>\n",
       "      <td>2016</td>\n",
       "      <td>8403</td>\n",
       "      <td>--- 藥品衛材專業資訊諮詢與服務</td>\n",
       "    </tr>\n",
       "    <tr>\n",
       "      <th>24</th>\n",
       "      <td>中</td>\n",
       "      <td>2016</td>\n",
       "      <td>8403</td>\n",
       "      <td>--- 藥品、保健食品及藥妝品之經銷與代理</td>\n",
       "    </tr>\n",
       "    <tr>\n",
       "      <th>25</th>\n",
       "      <td>中</td>\n",
       "      <td>2016</td>\n",
       "      <td>8403</td>\n",
       "      <td>--- 藥局營運與管理</td>\n",
       "    </tr>\n",
       "  </tbody>\n",
       "</table>\n",
       "<p>100 rows × 4 columns</p>\n",
       "</div>"
      ],
      "text/plain": [
       "   Tone  Year  Company                                               Text\n",
       "0     負  2016     4533  ﻿壹、致股東報告書各位股東女士、先生  2016年，我國工具機出口值從 31.84億美元衰退...\n",
       "1     正  2016     4533  全年機械產業產值則較2015年衰退 7%，然而，協易 2016年集團整體營收為新台幣 41....\n",
       "2     正  2016     4533                                    優化的產品組合帶動了獲利的成長\n",
       "3     中  2016     4533            過去以傳統小噸數機台為主的營收，現在正逐步轉型至伺服機種及大噸數機台的銷售組合\n",
       "4     中  2016     4533                        締造了 2016年稅後每股盈餘新台幣 1.06元的績效\n",
       "..  ...   ...      ...                                                ...\n",
       "21    中  2016     8403  二、106年營業計劃概要 （一）經營方針 醫藥流通事業： --- 醫藥品聯合採購平台: 包括...\n",
       "22    中  2016     8403                                     --- 藥品衛材倉儲物流管理\n",
       "23    中  2016     8403                                  --- 藥品衛材專業資訊諮詢與服務\n",
       "24    中  2016     8403                              --- 藥品、保健食品及藥妝品之經銷與代理\n",
       "25    中  2016     8403                                        --- 藥局營運與管理\n",
       "\n",
       "[100 rows x 4 columns]"
      ]
     },
     "execution_count": 153,
     "metadata": {},
     "output_type": "execute_result"
    }
   ],
   "source": [
    "mdf.head(100)"
   ]
  },
  {
   "cell_type": "code",
   "execution_count": 156,
   "id": "679fa43d",
   "metadata": {},
   "outputs": [],
   "source": [
    "# reset index\n",
    "mdf.reset_index(drop = True, inplace = True)"
   ]
  },
  {
   "cell_type": "code",
   "execution_count": 157,
   "id": "65ce01e8",
   "metadata": {},
   "outputs": [
    {
     "data": {
      "text/html": [
       "<div>\n",
       "<style scoped>\n",
       "    .dataframe tbody tr th:only-of-type {\n",
       "        vertical-align: middle;\n",
       "    }\n",
       "\n",
       "    .dataframe tbody tr th {\n",
       "        vertical-align: top;\n",
       "    }\n",
       "\n",
       "    .dataframe thead th {\n",
       "        text-align: right;\n",
       "    }\n",
       "</style>\n",
       "<table border=\"1\" class=\"dataframe\">\n",
       "  <thead>\n",
       "    <tr style=\"text-align: right;\">\n",
       "      <th></th>\n",
       "      <th>Tone</th>\n",
       "      <th>Year</th>\n",
       "      <th>Company</th>\n",
       "      <th>Text</th>\n",
       "    </tr>\n",
       "  </thead>\n",
       "  <tbody>\n",
       "    <tr>\n",
       "      <th>0</th>\n",
       "      <td>負</td>\n",
       "      <td>2016</td>\n",
       "      <td>4533</td>\n",
       "      <td>﻿壹、致股東報告書各位股東女士、先生  2016年，我國工具機出口值從 31.84億美元衰退...</td>\n",
       "    </tr>\n",
       "    <tr>\n",
       "      <th>1</th>\n",
       "      <td>正</td>\n",
       "      <td>2016</td>\n",
       "      <td>4533</td>\n",
       "      <td>全年機械產業產值則較2015年衰退 7%，然而，協易 2016年集團整體營收為新台幣 41....</td>\n",
       "    </tr>\n",
       "    <tr>\n",
       "      <th>2</th>\n",
       "      <td>正</td>\n",
       "      <td>2016</td>\n",
       "      <td>4533</td>\n",
       "      <td>優化的產品組合帶動了獲利的成長</td>\n",
       "    </tr>\n",
       "    <tr>\n",
       "      <th>3</th>\n",
       "      <td>中</td>\n",
       "      <td>2016</td>\n",
       "      <td>4533</td>\n",
       "      <td>過去以傳統小噸數機台為主的營收，現在正逐步轉型至伺服機種及大噸數機台的銷售組合</td>\n",
       "    </tr>\n",
       "    <tr>\n",
       "      <th>4</th>\n",
       "      <td>中</td>\n",
       "      <td>2016</td>\n",
       "      <td>4533</td>\n",
       "      <td>締造了 2016年稅後每股盈餘新台幣 1.06元的績效</td>\n",
       "    </tr>\n",
       "    <tr>\n",
       "      <th>...</th>\n",
       "      <td>...</td>\n",
       "      <td>...</td>\n",
       "      <td>...</td>\n",
       "      <td>...</td>\n",
       "    </tr>\n",
       "    <tr>\n",
       "      <th>95</th>\n",
       "      <td>中</td>\n",
       "      <td>2016</td>\n",
       "      <td>8403</td>\n",
       "      <td>二、106年營業計劃概要 （一）經營方針 醫藥流通事業： --- 醫藥品聯合採購平台: 包括...</td>\n",
       "    </tr>\n",
       "    <tr>\n",
       "      <th>96</th>\n",
       "      <td>中</td>\n",
       "      <td>2016</td>\n",
       "      <td>8403</td>\n",
       "      <td>--- 藥品衛材倉儲物流管理</td>\n",
       "    </tr>\n",
       "    <tr>\n",
       "      <th>97</th>\n",
       "      <td>中</td>\n",
       "      <td>2016</td>\n",
       "      <td>8403</td>\n",
       "      <td>--- 藥品衛材專業資訊諮詢與服務</td>\n",
       "    </tr>\n",
       "    <tr>\n",
       "      <th>98</th>\n",
       "      <td>中</td>\n",
       "      <td>2016</td>\n",
       "      <td>8403</td>\n",
       "      <td>--- 藥品、保健食品及藥妝品之經銷與代理</td>\n",
       "    </tr>\n",
       "    <tr>\n",
       "      <th>99</th>\n",
       "      <td>中</td>\n",
       "      <td>2016</td>\n",
       "      <td>8403</td>\n",
       "      <td>--- 藥局營運與管理</td>\n",
       "    </tr>\n",
       "  </tbody>\n",
       "</table>\n",
       "<p>100 rows × 4 columns</p>\n",
       "</div>"
      ],
      "text/plain": [
       "   Tone  Year  Company                                               Text\n",
       "0     負  2016     4533  ﻿壹、致股東報告書各位股東女士、先生  2016年，我國工具機出口值從 31.84億美元衰退...\n",
       "1     正  2016     4533  全年機械產業產值則較2015年衰退 7%，然而，協易 2016年集團整體營收為新台幣 41....\n",
       "2     正  2016     4533                                    優化的產品組合帶動了獲利的成長\n",
       "3     中  2016     4533            過去以傳統小噸數機台為主的營收，現在正逐步轉型至伺服機種及大噸數機台的銷售組合\n",
       "4     中  2016     4533                        締造了 2016年稅後每股盈餘新台幣 1.06元的績效\n",
       "..  ...   ...      ...                                                ...\n",
       "95    中  2016     8403  二、106年營業計劃概要 （一）經營方針 醫藥流通事業： --- 醫藥品聯合採購平台: 包括...\n",
       "96    中  2016     8403                                     --- 藥品衛材倉儲物流管理\n",
       "97    中  2016     8403                                  --- 藥品衛材專業資訊諮詢與服務\n",
       "98    中  2016     8403                              --- 藥品、保健食品及藥妝品之經銷與代理\n",
       "99    中  2016     8403                                        --- 藥局營運與管理\n",
       "\n",
       "[100 rows x 4 columns]"
      ]
     },
     "execution_count": 157,
     "metadata": {},
     "output_type": "execute_result"
    }
   ],
   "source": [
    "mdf.head(100)"
   ]
  },
  {
   "cell_type": "markdown",
   "id": "2d6eaf7e",
   "metadata": {},
   "source": [
    "## 檢查缺失值"
   ]
  },
  {
   "cell_type": "code",
   "execution_count": 162,
   "id": "72fda4df",
   "metadata": {},
   "outputs": [
    {
     "data": {
      "text/plain": [
       "15"
      ]
     },
     "execution_count": 162,
     "metadata": {},
     "output_type": "execute_result"
    }
   ],
   "source": [
    "# check null value\n",
    "mdf['Tone'].isnull().sum()"
   ]
  },
  {
   "cell_type": "code",
   "execution_count": 186,
   "id": "5cf2bc44",
   "metadata": {
    "collapsed": true
   },
   "outputs": [
    {
     "data": {
      "text/html": [
       "<div>\n",
       "<style scoped>\n",
       "    .dataframe tbody tr th:only-of-type {\n",
       "        vertical-align: middle;\n",
       "    }\n",
       "\n",
       "    .dataframe tbody tr th {\n",
       "        vertical-align: top;\n",
       "    }\n",
       "\n",
       "    .dataframe thead th {\n",
       "        text-align: right;\n",
       "    }\n",
       "</style>\n",
       "<table border=\"1\" class=\"dataframe\">\n",
       "  <thead>\n",
       "    <tr style=\"text-align: right;\">\n",
       "      <th></th>\n",
       "      <th>Tone</th>\n",
       "      <th>Year</th>\n",
       "      <th>Company</th>\n",
       "      <th>Text</th>\n",
       "    </tr>\n",
       "  </thead>\n",
       "  <tbody>\n",
       "    <tr>\n",
       "      <th>3036</th>\n",
       "      <td>True</td>\n",
       "      <td>False</td>\n",
       "      <td>False</td>\n",
       "      <td>False</td>\n",
       "    </tr>\n",
       "    <tr>\n",
       "      <th>3037</th>\n",
       "      <td>True</td>\n",
       "      <td>False</td>\n",
       "      <td>False</td>\n",
       "      <td>False</td>\n",
       "    </tr>\n",
       "    <tr>\n",
       "      <th>3038</th>\n",
       "      <td>True</td>\n",
       "      <td>False</td>\n",
       "      <td>False</td>\n",
       "      <td>False</td>\n",
       "    </tr>\n",
       "    <tr>\n",
       "      <th>3039</th>\n",
       "      <td>True</td>\n",
       "      <td>False</td>\n",
       "      <td>False</td>\n",
       "      <td>False</td>\n",
       "    </tr>\n",
       "    <tr>\n",
       "      <th>3040</th>\n",
       "      <td>True</td>\n",
       "      <td>False</td>\n",
       "      <td>False</td>\n",
       "      <td>False</td>\n",
       "    </tr>\n",
       "    <tr>\n",
       "      <th>3041</th>\n",
       "      <td>True</td>\n",
       "      <td>False</td>\n",
       "      <td>False</td>\n",
       "      <td>False</td>\n",
       "    </tr>\n",
       "    <tr>\n",
       "      <th>3042</th>\n",
       "      <td>True</td>\n",
       "      <td>False</td>\n",
       "      <td>False</td>\n",
       "      <td>False</td>\n",
       "    </tr>\n",
       "    <tr>\n",
       "      <th>3043</th>\n",
       "      <td>True</td>\n",
       "      <td>False</td>\n",
       "      <td>False</td>\n",
       "      <td>False</td>\n",
       "    </tr>\n",
       "    <tr>\n",
       "      <th>3044</th>\n",
       "      <td>True</td>\n",
       "      <td>False</td>\n",
       "      <td>False</td>\n",
       "      <td>False</td>\n",
       "    </tr>\n",
       "    <tr>\n",
       "      <th>3045</th>\n",
       "      <td>True</td>\n",
       "      <td>False</td>\n",
       "      <td>False</td>\n",
       "      <td>False</td>\n",
       "    </tr>\n",
       "    <tr>\n",
       "      <th>3046</th>\n",
       "      <td>True</td>\n",
       "      <td>False</td>\n",
       "      <td>False</td>\n",
       "      <td>False</td>\n",
       "    </tr>\n",
       "    <tr>\n",
       "      <th>3047</th>\n",
       "      <td>True</td>\n",
       "      <td>False</td>\n",
       "      <td>False</td>\n",
       "      <td>False</td>\n",
       "    </tr>\n",
       "    <tr>\n",
       "      <th>3048</th>\n",
       "      <td>True</td>\n",
       "      <td>False</td>\n",
       "      <td>False</td>\n",
       "      <td>False</td>\n",
       "    </tr>\n",
       "    <tr>\n",
       "      <th>3049</th>\n",
       "      <td>True</td>\n",
       "      <td>False</td>\n",
       "      <td>False</td>\n",
       "      <td>False</td>\n",
       "    </tr>\n",
       "    <tr>\n",
       "      <th>4632</th>\n",
       "      <td>True</td>\n",
       "      <td>False</td>\n",
       "      <td>False</td>\n",
       "      <td>False</td>\n",
       "    </tr>\n",
       "  </tbody>\n",
       "</table>\n",
       "</div>"
      ],
      "text/plain": [
       "      Tone   Year  Company   Text\n",
       "3036  True  False    False  False\n",
       "3037  True  False    False  False\n",
       "3038  True  False    False  False\n",
       "3039  True  False    False  False\n",
       "3040  True  False    False  False\n",
       "3041  True  False    False  False\n",
       "3042  True  False    False  False\n",
       "3043  True  False    False  False\n",
       "3044  True  False    False  False\n",
       "3045  True  False    False  False\n",
       "3046  True  False    False  False\n",
       "3047  True  False    False  False\n",
       "3048  True  False    False  False\n",
       "3049  True  False    False  False\n",
       "4632  True  False    False  False"
      ]
     },
     "execution_count": 186,
     "metadata": {},
     "output_type": "execute_result"
    }
   ],
   "source": [
    "null_df = mdf.isnull()\n",
    "null_df = null_df[null_df['Tone'] == True]\n",
    "null_df"
   ]
  },
  {
   "cell_type": "code",
   "execution_count": 188,
   "id": "db349f55",
   "metadata": {},
   "outputs": [
    {
     "data": {
      "text/plain": [
       "Int64Index([3036, 3037, 3038, 3039, 3040, 3041, 3042, 3043, 3044, 3045, 3046,\n",
       "            3047, 3048, 3049, 4632],\n",
       "           dtype='int64')"
      ]
     },
     "execution_count": 188,
     "metadata": {},
     "output_type": "execute_result"
    }
   ],
   "source": [
    "null_list = null_df.index\n",
    "null_list"
   ]
  },
  {
   "cell_type": "code",
   "execution_count": 195,
   "id": "9fa338ae",
   "metadata": {
    "collapsed": true
   },
   "outputs": [
    {
     "name": "stdout",
     "output_type": "stream",
     "text": [
      "4306\n",
      "4306\n",
      "4306\n",
      "4306\n",
      "4306\n",
      "4306\n",
      "4306\n",
      "4306\n",
      "4306\n",
      "4306\n",
      "4306\n",
      "4306\n",
      "4306\n",
      "4306\n",
      "4183\n"
     ]
    }
   ],
   "source": [
    "for i in null_list:\n",
    "    print(mdf.loc[i, 'Company'])"
   ]
  },
  {
   "cell_type": "markdown",
   "id": "4f57873f",
   "metadata": {},
   "source": [
    "## 移除缺失值"
   ]
  },
  {
   "cell_type": "code",
   "execution_count": 197,
   "id": "a01aa9d5",
   "metadata": {},
   "outputs": [],
   "source": [
    "mdf.dropna(inplace = True)"
   ]
  },
  {
   "cell_type": "code",
   "execution_count": 198,
   "id": "ec549df1",
   "metadata": {},
   "outputs": [
    {
     "name": "stdout",
     "output_type": "stream",
     "text": [
      "<class 'pandas.core.frame.DataFrame'>\n",
      "Int64Index: 7038 entries, 0 to 7052\n",
      "Data columns (total 4 columns):\n",
      " #   Column   Non-Null Count  Dtype \n",
      "---  ------   --------------  ----- \n",
      " 0   Tone     7038 non-null   object\n",
      " 1   Year     7038 non-null   int64 \n",
      " 2   Company  7038 non-null   int64 \n",
      " 3   Text     7038 non-null   object\n",
      "dtypes: int64(2), object(2)\n",
      "memory usage: 274.9+ KB\n"
     ]
    }
   ],
   "source": [
    "mdf.info()"
   ]
  },
  {
   "cell_type": "code",
   "execution_count": 199,
   "id": "ad158fed",
   "metadata": {},
   "outputs": [
    {
     "data": {
      "text/plain": [
       "(7038, 4)"
      ]
     },
     "execution_count": 199,
     "metadata": {},
     "output_type": "execute_result"
    }
   ],
   "source": [
    "mdf.shape"
   ]
  },
  {
   "cell_type": "code",
   "execution_count": 200,
   "id": "d99f03cd",
   "metadata": {},
   "outputs": [
    {
     "data": {
      "text/plain": [
       "Tone       0\n",
       "Year       0\n",
       "Company    0\n",
       "Text       0\n",
       "dtype: int64"
      ]
     },
     "execution_count": 200,
     "metadata": {},
     "output_type": "execute_result"
    }
   ],
   "source": [
    "mdf.isnull().sum()"
   ]
  },
  {
   "cell_type": "markdown",
   "id": "1efe5422",
   "metadata": {},
   "source": [
    "## 檢查重複值"
   ]
  },
  {
   "cell_type": "code",
   "execution_count": 206,
   "id": "367045d1",
   "metadata": {},
   "outputs": [
    {
     "data": {
      "text/plain": [
       "10"
      ]
     },
     "execution_count": 206,
     "metadata": {},
     "output_type": "execute_result"
    }
   ],
   "source": [
    "# check duplicated value\n",
    "mdf.duplicated().sum()"
   ]
  },
  {
   "cell_type": "code",
   "execution_count": 226,
   "id": "1490a6cb",
   "metadata": {},
   "outputs": [
    {
     "data": {
      "text/html": [
       "<div>\n",
       "<style scoped>\n",
       "    .dataframe tbody tr th:only-of-type {\n",
       "        vertical-align: middle;\n",
       "    }\n",
       "\n",
       "    .dataframe tbody tr th {\n",
       "        vertical-align: top;\n",
       "    }\n",
       "\n",
       "    .dataframe thead th {\n",
       "        text-align: right;\n",
       "    }\n",
       "</style>\n",
       "<table border=\"1\" class=\"dataframe\">\n",
       "  <thead>\n",
       "    <tr style=\"text-align: right;\">\n",
       "      <th></th>\n",
       "      <th>Tone</th>\n",
       "      <th>Year</th>\n",
       "      <th>Company</th>\n",
       "      <th>Text</th>\n",
       "    </tr>\n",
       "  </thead>\n",
       "  <tbody>\n",
       "    <tr>\n",
       "      <th>789</th>\n",
       "      <td>中</td>\n",
       "      <td>2016</td>\n",
       "      <td>4128</td>\n",
       "      <td>積極爭取與政府農政單位及農漁民之合作機會，促銷各鄉鎮地區知名有機農、漁、畜產品，提升公司品牌形象</td>\n",
       "    </tr>\n",
       "    <tr>\n",
       "      <th>1195</th>\n",
       "      <td>中</td>\n",
       "      <td>2016</td>\n",
       "      <td>1612</td>\n",
       "      <td>目前已完成試製開發，並投入市場供應</td>\n",
       "    </tr>\n",
       "    <tr>\n",
       "      <th>4271</th>\n",
       "      <td>正</td>\n",
       "      <td>2016</td>\n",
       "      <td>4743</td>\n",
       "      <td>牛樟芝抗癌新藥除直接抗癌活性外，進一步的生體內外與疾病動物模式亦證明牛樟芝具有抑制血管新生的...</td>\n",
       "    </tr>\n",
       "    <tr>\n",
       "      <th>4425</th>\n",
       "      <td>正</td>\n",
       "      <td>2016</td>\n",
       "      <td>4173</td>\n",
       "      <td>其他綜合損益 (354) (9,365) -96.22%主要係確定福利計畫精算損失減少所致</td>\n",
       "    </tr>\n",
       "    <tr>\n",
       "      <th>4437</th>\n",
       "      <td>正</td>\n",
       "      <td>2016</td>\n",
       "      <td>4173</td>\n",
       "      <td>股東權益 2.52 2.34係 105 年度稅後盈餘增加所致</td>\n",
       "    </tr>\n",
       "    <tr>\n",
       "      <th>4441</th>\n",
       "      <td>正</td>\n",
       "      <td>2016</td>\n",
       "      <td>4173</td>\n",
       "      <td>基本每股 0.60 0.56係 105 年度稅後盈餘增加所致</td>\n",
       "    </tr>\n",
       "    <tr>\n",
       "      <th>5390</th>\n",
       "      <td>中</td>\n",
       "      <td>2016</td>\n",
       "      <td>4107</td>\n",
       "      <td>除此之外，本公司亦將進一步的與上游主要原料供應商加強合作關係，以確保原材料的品質穩定及來源無虞</td>\n",
       "    </tr>\n",
       "    <tr>\n",
       "      <th>5391</th>\n",
       "      <td>中</td>\n",
       "      <td>2016</td>\n",
       "      <td>4107</td>\n",
       "      <td>並為因應國內外市場的開發，除更積極佈局全球市場的銷售網路外，並將更進一步強化與客戶的合作夥伴...</td>\n",
       "    </tr>\n",
       "    <tr>\n",
       "      <th>6463</th>\n",
       "      <td>中</td>\n",
       "      <td>2016</td>\n",
       "      <td>4109</td>\n",
       "      <td>而由此大層面可節省社會之健保負擔和家庭經濟負擔是相當龐大的</td>\n",
       "    </tr>\n",
       "    <tr>\n",
       "      <th>6466</th>\n",
       "      <td>正</td>\n",
       "      <td>2016</td>\n",
       "      <td>4109</td>\n",
       "      <td>我們有太多的伙伴，十多年來的堅持就是最好的見證</td>\n",
       "    </tr>\n",
       "  </tbody>\n",
       "</table>\n",
       "</div>"
      ],
      "text/plain": [
       "     Tone  Year  Company                                               Text\n",
       "789     中  2016     4128   積極爭取與政府農政單位及農漁民之合作機會，促銷各鄉鎮地區知名有機農、漁、畜產品，提升公司品牌形象\n",
       "1195    中  2016     1612                                  目前已完成試製開發，並投入市場供應\n",
       "4271    正  2016     4743  牛樟芝抗癌新藥除直接抗癌活性外，進一步的生體內外與疾病動物模式亦證明牛樟芝具有抑制血管新生的...\n",
       "4425    正  2016     4173      其他綜合損益 (354) (9,365) -96.22%主要係確定福利計畫精算損失減少所致\n",
       "4437    正  2016     4173                     股東權益 2.52 2.34係 105 年度稅後盈餘增加所致\n",
       "4441    正  2016     4173                     基本每股 0.60 0.56係 105 年度稅後盈餘增加所致\n",
       "5390    中  2016     4107    除此之外，本公司亦將進一步的與上游主要原料供應商加強合作關係，以確保原材料的品質穩定及來源無虞\n",
       "5391    中  2016     4107  並為因應國內外市場的開發，除更積極佈局全球市場的銷售網路外，並將更進一步強化與客戶的合作夥伴...\n",
       "6463    中  2016     4109                      而由此大層面可節省社會之健保負擔和家庭經濟負擔是相當龐大的\n",
       "6466    正  2016     4109                            我們有太多的伙伴，十多年來的堅持就是最好的見證"
      ]
     },
     "execution_count": 226,
     "metadata": {},
     "output_type": "execute_result"
    }
   ],
   "source": [
    "mdf[mdf.duplicated()]"
   ]
  },
  {
   "cell_type": "markdown",
   "id": "a24c62c2",
   "metadata": {},
   "source": [
    "## 確認標記正確性"
   ]
  },
  {
   "cell_type": "code",
   "execution_count": 227,
   "id": "bf788bd8",
   "metadata": {},
   "outputs": [
    {
     "data": {
      "text/plain": [
       "array(['負', '正', '中'], dtype=object)"
      ]
     },
     "execution_count": 227,
     "metadata": {},
     "output_type": "execute_result"
    }
   ],
   "source": [
    "# check Tone column\n",
    "mdf['Tone'].unique()"
   ]
  },
  {
   "cell_type": "markdown",
   "id": "3fd35ec8",
   "metadata": {},
   "source": [
    "## 語調比例"
   ]
  },
  {
   "cell_type": "code",
   "execution_count": 224,
   "id": "0358c6b8",
   "metadata": {},
   "outputs": [],
   "source": [
    "plot_df = mdf.groupby('Tone')[['Company']].count()\n",
    "plot_df['percentage'] = plot_df['Company']/len(mdf)"
   ]
  },
  {
   "cell_type": "code",
   "execution_count": 225,
   "id": "a628d502",
   "metadata": {},
   "outputs": [
    {
     "data": {
      "text/html": [
       "<div>\n",
       "<style scoped>\n",
       "    .dataframe tbody tr th:only-of-type {\n",
       "        vertical-align: middle;\n",
       "    }\n",
       "\n",
       "    .dataframe tbody tr th {\n",
       "        vertical-align: top;\n",
       "    }\n",
       "\n",
       "    .dataframe thead th {\n",
       "        text-align: right;\n",
       "    }\n",
       "</style>\n",
       "<table border=\"1\" class=\"dataframe\">\n",
       "  <thead>\n",
       "    <tr style=\"text-align: right;\">\n",
       "      <th></th>\n",
       "      <th>Company</th>\n",
       "      <th>percentage</th>\n",
       "    </tr>\n",
       "    <tr>\n",
       "      <th>Tone</th>\n",
       "      <th></th>\n",
       "      <th></th>\n",
       "    </tr>\n",
       "  </thead>\n",
       "  <tbody>\n",
       "    <tr>\n",
       "      <th>中</th>\n",
       "      <td>3964</td>\n",
       "      <td>0.563228</td>\n",
       "    </tr>\n",
       "    <tr>\n",
       "      <th>正</th>\n",
       "      <td>2398</td>\n",
       "      <td>0.340722</td>\n",
       "    </tr>\n",
       "    <tr>\n",
       "      <th>負</th>\n",
       "      <td>676</td>\n",
       "      <td>0.096050</td>\n",
       "    </tr>\n",
       "  </tbody>\n",
       "</table>\n",
       "</div>"
      ],
      "text/plain": [
       "      Company  percentage\n",
       "Tone                     \n",
       "中        3964    0.563228\n",
       "正        2398    0.340722\n",
       "負         676    0.096050"
      ]
     },
     "execution_count": 225,
     "metadata": {},
     "output_type": "execute_result"
    }
   ],
   "source": [
    "plot_df"
   ]
  },
  {
   "cell_type": "markdown",
   "id": "100100b8",
   "metadata": {},
   "source": [
    "## 去除空白"
   ]
  },
  {
   "cell_type": "code",
   "execution_count": 228,
   "id": "fdf18858",
   "metadata": {},
   "outputs": [],
   "source": [
    "mdf1 = mdf\n",
    "mdf1['Text'] = mdf1['Text'].str.strip()\n",
    "mdf1['Text'] = mdf1['Text'].str.replace(' ', '')"
   ]
  },
  {
   "cell_type": "code",
   "execution_count": 229,
   "id": "1bbaf48c",
   "metadata": {},
   "outputs": [
    {
     "data": {
      "text/plain": [
       "(7038, 4)"
      ]
     },
     "execution_count": 229,
     "metadata": {},
     "output_type": "execute_result"
    }
   ],
   "source": [
    "mdf1.shape"
   ]
  },
  {
   "cell_type": "code",
   "execution_count": 231,
   "id": "3f45684c",
   "metadata": {},
   "outputs": [],
   "source": [
    "mdf1.to_excel('/Users/hohan/Desktop/out_2.xlsx')"
   ]
  }
 ],
 "metadata": {
  "kernelspec": {
   "display_name": "Python 3 (ipykernel)",
   "language": "python",
   "name": "python3"
  },
  "language_info": {
   "codemirror_mode": {
    "name": "ipython",
    "version": 3
   },
   "file_extension": ".py",
   "mimetype": "text/x-python",
   "name": "python",
   "nbconvert_exporter": "python",
   "pygments_lexer": "ipython3",
   "version": "3.9.13"
  }
 },
 "nbformat": 4,
 "nbformat_minor": 5
}
