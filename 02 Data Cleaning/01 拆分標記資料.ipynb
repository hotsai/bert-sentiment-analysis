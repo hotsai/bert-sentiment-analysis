{
 "cells": [
  {
   "cell_type": "markdown",
   "metadata": {},
   "source": [
    "# 拆分標記資料"
   ]
  },
  {
   "cell_type": "markdown",
   "metadata": {},
   "source": [
    "## 1. 讀取資料夾檔名及子資料夾"
   ]
  },
  {
   "cell_type": "code",
   "execution_count": 2,
   "metadata": {},
   "outputs": [],
   "source": [
    "import os\n",
    "from os import listdir\n",
    "from os.path import isfile, isdir, join"
   ]
  },
  {
   "cell_type": "code",
   "execution_count": 3,
   "metadata": {},
   "outputs": [],
   "source": [
    "path = \"/Users/hohan/Desktop/thesis/致股東報告書2016-2020\""
   ]
  },
  {
   "cell_type": "code",
   "execution_count": 4,
   "metadata": {},
   "outputs": [
    {
     "data": {
      "text/plain": [
       "['.DS_Store', '2017', '2019', '2020', '2018', '2016']"
      ]
     },
     "execution_count": 4,
     "metadata": {},
     "output_type": "execute_result"
    }
   ],
   "source": [
    "folder = listdir(path)\n",
    "folder"
   ]
  },
  {
   "cell_type": "code",
   "execution_count": 7,
   "metadata": {},
   "outputs": [
    {
     "data": {
      "text/plain": [
       "['2017', '2019', '2020', '2018', '2016']"
      ]
     },
     "execution_count": 7,
     "metadata": {},
     "output_type": "execute_result"
    }
   ],
   "source": [
    "folder_list = []\n",
    "\n",
    "for f in folder:\n",
    "  # 產生檔案的絕對路徑\n",
    "  fullpath = join(path, f)\n",
    "  # 判斷 fullpath 是檔案還是目錄\n",
    "  if isdir(fullpath):\n",
    "        folder_list.append(f)\n",
    "\n",
    "folder_list"
   ]
  },
  {
   "cell_type": "markdown",
   "metadata": {},
   "source": [
    "## 2. 子資料夾中的檔案，依照分隔符號拆分"
   ]
  },
  {
   "cell_type": "code",
   "execution_count": 8,
   "metadata": {},
   "outputs": [],
   "source": [
    "import pandas as pd\n",
    "import numpy as np\n",
    "import re"
   ]
  },
  {
   "cell_type": "code",
   "execution_count": 9,
   "metadata": {},
   "outputs": [
    {
     "name": "stdout",
     "output_type": "stream",
     "text": [
      "/Users/hohan/Desktop/SPLIT/2017_split\n",
      "/Users/hohan/Desktop/SPLIT/2019_split\n",
      "/Users/hohan/Desktop/SPLIT/2020_split\n",
      "/Users/hohan/Desktop/SPLIT/2018_split\n",
      "/Users/hohan/Desktop/SPLIT/2016_split\n"
     ]
    }
   ],
   "source": [
    "for folder_year in folder_list:\n",
    "    # 將來源資料夾路徑存入 folder_path 變數中\n",
    "    folder_path = join(path, folder_year)\n",
    "    \n",
    "    # 創建輸出資料夾路徑\n",
    "    destination_folder = \"/Users/hohan/Desktop/SPLIT/\"+ folder_year + \"_split\"\n",
    "    os.makedirs(destination_folder)\n",
    "    # 印出輸出資料夾路徑\n",
    "    print(destination_folder)\n",
    "\n",
    "    # 從各年度來源資料夾中讀取檔案\n",
    "    files = listdir(folder_path)\n",
    "    for f in files:\n",
    "        # 將檔案錄進存入 fullpath 變數中\n",
    "        fullpath = join(folder_path, f)\n",
    "        if not f.startswith('.') and isfile(fullpath):\n",
    "            with open(fullpath, 'r') as file:\n",
    "                # 將檔案中文字存入data變數中，並移除換行符號\n",
    "                data = file.read().replace('\\n', '')\n",
    "                \n",
    "                # 建立空dataframe\n",
    "                df1 = pd.DataFrame()\n",
    "                \n",
    "                # 將文字以。;；做分隔，拆成不同句\n",
    "                l1 = re.split(\"。|;|；\", data)\n",
    "                for i in l1:\n",
    "                    df1['Text'] = l1\n",
    "\n",
    "                df1['Year'] = folder_year\n",
    "                df1['Company'] = f[0:4]\n",
    "                df1['Tone'] = \"\"\n",
    "                df1 = df1[['Tone', 'Year', 'Company', 'Text']]\n",
    "                \n",
    "                # 輸出拆分後檔案到指定資料夾\n",
    "                df1.to_excel(destination_folder +\"/\"+f+\"_split.xlsx\", index=False)"
   ]
  },
  {
   "cell_type": "markdown",
   "metadata": {},
   "source": [
    "# 驗證檔案數量"
   ]
  },
  {
   "cell_type": "markdown",
   "metadata": {},
   "source": [
    "## 1. 原資料"
   ]
  },
  {
   "cell_type": "code",
   "execution_count": 11,
   "metadata": {},
   "outputs": [],
   "source": [
    "path = \"/Users/hohan/Desktop/thesis/致股東報告書2016-2020\"\n",
    "folder_list_detail = []\n",
    "folder = listdir(path)\n",
    "for f in folder:\n",
    "  # 產生檔案的絕對路徑\n",
    "  fullpath = join(path, f)\n",
    "  # 判斷 fullpath 是檔案還是目錄\n",
    "  if isdir(fullpath):\n",
    "        folder_list_detail.append(fullpath)"
   ]
  },
  {
   "cell_type": "code",
   "execution_count": 12,
   "metadata": {},
   "outputs": [
    {
     "name": "stdout",
     "output_type": "stream",
     "text": [
      "/Users/hohan/Desktop/thesis/致股東報告書2016-2020/2017  檔案數量： 1088\n",
      "/Users/hohan/Desktop/thesis/致股東報告書2016-2020/2019  檔案數量： 1114\n",
      "/Users/hohan/Desktop/thesis/致股東報告書2016-2020/2020  檔案數量： 1185\n",
      "/Users/hohan/Desktop/thesis/致股東報告書2016-2020/2018  檔案數量： 1116\n",
      "/Users/hohan/Desktop/thesis/致股東報告書2016-2020/2016  檔案數量： 1046\n"
     ]
    }
   ],
   "source": [
    "for i in folder_list_detail:\n",
    "\n",
    "    initial_count = 0\n",
    "    dir = i\n",
    "    for path in os.listdir(dir):\n",
    "        if os.path.isfile(os.path.join(dir, path)):\n",
    "            initial_count += 1\n",
    "    print(dir,\" 檔案數量：\",initial_count)"
   ]
  },
  {
   "cell_type": "markdown",
   "metadata": {},
   "source": [
    "## 2. 新資料"
   ]
  },
  {
   "cell_type": "code",
   "execution_count": 13,
   "metadata": {},
   "outputs": [],
   "source": [
    "path = \"/Users/hohan/Desktop/SPLIT\"\n",
    "folder_list_detail = []\n",
    "folder = listdir(path)\n",
    "for f in folder:\n",
    "  # 產生檔案的絕對路徑\n",
    "  fullpath = join(path, f)\n",
    "  # 判斷 fullpath 是檔案還是目錄\n",
    "  if isdir(fullpath):\n",
    "        folder_list_detail.append(fullpath)"
   ]
  },
  {
   "cell_type": "code",
   "execution_count": 14,
   "metadata": {},
   "outputs": [
    {
     "name": "stdout",
     "output_type": "stream",
     "text": [
      "/Users/hohan/Desktop/SPLIT/2018_split  檔案數量： 1116\n",
      "/Users/hohan/Desktop/SPLIT/2020_split  檔案數量： 1185\n",
      "/Users/hohan/Desktop/SPLIT/2019_split  檔案數量： 1114\n",
      "/Users/hohan/Desktop/SPLIT/2017_split  檔案數量： 1088\n",
      "/Users/hohan/Desktop/SPLIT/2016_split  檔案數量： 1045\n"
     ]
    }
   ],
   "source": [
    "for i in folder_list_detail:\n",
    "\n",
    "    initial_count = 0\n",
    "    dir = i\n",
    "    for path in os.listdir(dir):\n",
    "        if os.path.isfile(os.path.join(dir, path)):\n",
    "            initial_count += 1\n",
    "    print(dir,\" 檔案數量：\",initial_count)"
   ]
  }
 ],
 "metadata": {
  "colab": {
   "collapsed_sections": [
    "WzKj125QrMql"
   ],
   "provenance": []
  },
  "kernelspec": {
   "display_name": "Python 3 (ipykernel)",
   "language": "python",
   "name": "python3"
  },
  "language_info": {
   "codemirror_mode": {
    "name": "ipython",
    "version": 3
   },
   "file_extension": ".py",
   "mimetype": "text/x-python",
   "name": "python",
   "nbconvert_exporter": "python",
   "pygments_lexer": "ipython3",
   "version": "3.9.13"
  }
 },
 "nbformat": 4,
 "nbformat_minor": 1
}
